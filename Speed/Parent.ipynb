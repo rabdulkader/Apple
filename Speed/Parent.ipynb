{
 "cells": [
  {
   "cell_type": "code",
   "execution_count": 13,
   "metadata": {},
   "outputs": [],
   "source": [
    "import numpy as np\n",
    "import subprocess,os\n",
    "import random,copy,time"
   ]
  },
  {
   "cell_type": "code",
   "execution_count": 14,
   "metadata": {},
   "outputs": [],
   "source": [
    "def chromosome_generetor(structure):\n",
    "    x=[]\n",
    "    for i in range(0,len(structure)-1):\n",
    "        k=structure[i]*structure[i+1]\n",
    "        x.append(k)\n",
    "    x=sum(x)\n",
    "    return 2*np.random.random((x,))-1 \n"
   ]
  },
  {
   "cell_type": "code",
   "execution_count": 9,
   "metadata": {},
   "outputs": [],
   "source": [
    "population=[]\n",
    "\n",
    "def populate(size):\n",
    "    \n",
    "    initial_pop=[None]*size\n",
    "    \n",
    "    for i in range(size):\n",
    "        chromosome=chromosome_generetor(structure)\n",
    "        initial_pop[i]=chromosome\n",
    "    \n",
    "    return initial_pop\n",
    "\n",
    "def fitness(population,size,structure):\n",
    "    pop_1=population[:166]\n",
    "    pop_2=population[166:332]\n",
    "    pop_3=population[332:]\n",
    "    \n",
    "    f1=open('pop_1.txt','w')\n",
    "    f2=open('pop_2.txt','w')\n",
    "    f3=open('pop_3.txt','w')\n",
    "    \n",
    "    f1.write(str(pop_1))\n",
    "    f2.write(str(pop_2))\n",
    "    f3.write(str(pop_3))\n",
    "    \n",
    "    f1.close()\n",
    "    f2.close()\n",
    "    f3.close()\n",
    "    \n",
    "    subprocess.Popen(['python.exe','child_1.py'])\n",
    "    subprocess.Popen(['python.exe','child_2.py'])\n",
    "    subprocess.Popen(['python.exe','child_3.py'])\n",
    "    \n",
    "    while True:\n",
    "        try:\n",
    "            fread_1=open('pop_1.txt','r')\n",
    "            break\n",
    "        except:\n",
    "            time.sleep(0.0001)\n",
    "    new_pop1=fread_1.read()\n",
    "    while True:\n",
    "        try:\n",
    "            fread_2=open('pop_2.txt','r')\n",
    "            break\n",
    "        except:\n",
    "            time.sleep(0.0001)\n",
    "    new_pop2=fread_2.read()\n",
    "    while True:\n",
    "        try:\n",
    "            fread_3=open('pop_3.txt','r')\n",
    "            break\n",
    "        except:\n",
    "            time.sleep(0.0001)\n",
    "    new_pop3=fread_3.read()\n",
    "        \n",
    "    "
   ]
  },
  {
   "cell_type": "code",
   "execution_count": 15,
   "metadata": {},
   "outputs": [],
   "source": [
    "pop_1=score[:166]\n",
    "f=open('t','w')\n",
    "f.write(str(pop_1))\n",
    "f.close()"
   ]
  },
  {
   "cell_type": "code",
   "execution_count": 16,
   "metadata": {},
   "outputs": [],
   "source": [
    "while True:\n",
    "    try:\n",
    "        fread_1=open('scores','r')\n",
    "        break\n",
    "    except:\n",
    "        time.sleep(0.0001)\n",
    "new_pop1=fread_1.read()\n",
    "\n",
    "point=new_pop1.split(',')[0].split('(')[1]\n"
   ]
  },
  {
   "cell_type": "code",
   "execution_count": null,
   "metadata": {},
   "outputs": [],
   "source": []
  }
 ],
 "metadata": {
  "kernelspec": {
   "display_name": "Python 3",
   "language": "python",
   "name": "python3"
  },
  "language_info": {
   "codemirror_mode": {
    "name": "ipython",
    "version": 3
   },
   "file_extension": ".py",
   "mimetype": "text/x-python",
   "name": "python",
   "nbconvert_exporter": "python",
   "pygments_lexer": "ipython3",
   "version": "3.7.3"
  }
 },
 "nbformat": 4,
 "nbformat_minor": 2
}
