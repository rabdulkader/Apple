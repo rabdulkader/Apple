{
 "cells": [
  {
   "cell_type": "code",
   "execution_count": 14,
   "metadata": {},
   "outputs": [],
   "source": [
    "import numpy as np\n",
    "import pandas as pd"
   ]
  },
  {
   "cell_type": "code",
   "execution_count": 79,
   "metadata": {},
   "outputs": [],
   "source": [
    "data=pd.read_csv(r'C:\\Users\\Reyan\\Desktop\\Proj\\Apple\\Data.csv')\n",
    "data=data.sample(frac=1).reset_index(drop=True)\n",
    "\n",
    "train_data=data.head(12)\n",
    "test_data=data.tail(4)\n",
    "\n",
    "train_input_data=train_data.drop(['O'],axis=1)\n",
    "train_input=train_input_data.values\n",
    "train_output_data=train_data.drop(['A','B','C','D'],axis=1)\n",
    "train_output=train_output_data.value"
   ]
  },
  {
   "cell_type": "code",
   "execution_count": 136,
   "metadata": {},
   "outputs": [
    {
     "data": {
      "text/plain": [
       "(12, 1)"
      ]
     },
     "execution_count": 136,
     "metadata": {},
     "output_type": "execute_result"
    }
   ],
   "source": [
    "np.array(train_output).shape"
   ]
  },
  {
   "cell_type": "code",
   "execution_count": 152,
   "metadata": {},
   "outputs": [],
   "source": [
    "class nn():\n",
    "    def __init__(self):\n",
    "        self.weight= 2*np.random.random((4,4)) -1\n",
    "        self.weight_out=2*np.random.random((4,1)) -1\n",
    "        \n",
    "    def sigmoid(self,x):\n",
    "        return 1/(1+np.exp(-x))\n",
    "    \n",
    "    def sigmoid_gra(self,x):\n",
    "        return x*1-x\n",
    "    \n",
    "    def process(self,train_input):\n",
    "        final_output=[]\n",
    "        for i in range(len(train_input)):\n",
    "            \n",
    "            inputs=train_input[i]\n",
    "                       \n",
    "        \n",
    "            output=inputs.T\n",
    "\n",
    "        \n",
    "            output=self.sigmoid(np.dot(output,self.weight))\n",
    "            \n",
    "            out2=self.sigmoid(np.dot(output.T,self.weight_out))\n",
    "            \n",
    "            final_output.append(out2)\n",
    "            \n",
    "        return np.array(final_output)\n",
    "    \n",
    "    def train(self,train_output,train_input):\n",
    "        \n",
    "        final_out=self.process(train_input)\n",
    "        \n",
    "        e=np.subtract(train_output,final_out)\n",
    "        \n",
    "        sig=sigmoid_gra(np.array(final_out))\n",
    "        \n",
    "        \n",
    "        return e*sig\n",
    "    \n",
    "\n",
    "        "
   ]
  },
  {
   "cell_type": "code",
   "execution_count": 153,
   "metadata": {},
   "outputs": [
    {
     "data": {
      "text/html": [
       "<div>\n",
       "<style scoped>\n",
       "    .dataframe tbody tr th:only-of-type {\n",
       "        vertical-align: middle;\n",
       "    }\n",
       "\n",
       "    .dataframe tbody tr th {\n",
       "        vertical-align: top;\n",
       "    }\n",
       "\n",
       "    .dataframe thead th {\n",
       "        text-align: right;\n",
       "    }\n",
       "</style>\n",
       "<table border=\"1\" class=\"dataframe\">\n",
       "  <thead>\n",
       "    <tr style=\"text-align: right;\">\n",
       "      <th></th>\n",
       "      <th>O</th>\n",
       "    </tr>\n",
       "  </thead>\n",
       "  <tbody>\n",
       "    <tr>\n",
       "      <th>0</th>\n",
       "      <td>0.061512</td>\n",
       "    </tr>\n",
       "    <tr>\n",
       "      <th>1</th>\n",
       "      <td>0.077571</td>\n",
       "    </tr>\n",
       "    <tr>\n",
       "      <th>2</th>\n",
       "      <td>-0.148136</td>\n",
       "    </tr>\n",
       "    <tr>\n",
       "      <th>3</th>\n",
       "      <td>-0.147595</td>\n",
       "    </tr>\n",
       "    <tr>\n",
       "      <th>4</th>\n",
       "      <td>-0.147823</td>\n",
       "    </tr>\n",
       "    <tr>\n",
       "      <th>5</th>\n",
       "      <td>-0.146946</td>\n",
       "    </tr>\n",
       "    <tr>\n",
       "      <th>6</th>\n",
       "      <td>-0.147163</td>\n",
       "    </tr>\n",
       "    <tr>\n",
       "      <th>7</th>\n",
       "      <td>0.073403</td>\n",
       "    </tr>\n",
       "    <tr>\n",
       "      <th>8</th>\n",
       "      <td>0.085764</td>\n",
       "    </tr>\n",
       "    <tr>\n",
       "      <th>9</th>\n",
       "      <td>0.071420</td>\n",
       "    </tr>\n",
       "    <tr>\n",
       "      <th>10</th>\n",
       "      <td>-0.147754</td>\n",
       "    </tr>\n",
       "    <tr>\n",
       "      <th>11</th>\n",
       "      <td>-0.145242</td>\n",
       "    </tr>\n",
       "  </tbody>\n",
       "</table>\n",
       "</div>"
      ],
      "text/plain": [
       "           O\n",
       "0   0.061512\n",
       "1   0.077571\n",
       "2  -0.148136\n",
       "3  -0.147595\n",
       "4  -0.147823\n",
       "5  -0.146946\n",
       "6  -0.147163\n",
       "7   0.073403\n",
       "8   0.085764\n",
       "9   0.071420\n",
       "10 -0.147754\n",
       "11 -0.145242"
      ]
     },
     "execution_count": 153,
     "metadata": {},
     "output_type": "execute_result"
    }
   ],
   "source": [
    "network=nn()\n",
    "#output=network.process(train_input)\n",
    "error=network.train(train_output,train_input)\n",
    "error"
   ]
  },
  {
   "cell_type": "code",
   "execution_count": 148,
   "metadata": {},
   "outputs": [
    {
     "data": {
      "text/plain": [
       "array([[0.04372117],\n",
       "       [0.03558517],\n",
       "       [0.02980729],\n",
       "       [0.0448121 ],\n",
       "       [0.04242923],\n",
       "       [0.02608683],\n",
       "       [0.0410113 ],\n",
       "       [0.03884352],\n",
       "       [0.02791871],\n",
       "       [0.032203  ],\n",
       "       [0.03966465],\n",
       "       [0.03061424]])"
      ]
     },
     "execution_count": 148,
     "metadata": {},
     "output_type": "execute_result"
    }
   ],
   "source": [
    "error*error"
   ]
  },
  {
   "cell_type": "code",
   "execution_count": 133,
   "metadata": {},
   "outputs": [
    {
     "data": {
      "text/plain": [
       "array([[0.24999964],\n",
       "       [0.24999067],\n",
       "       [0.2490818 ],\n",
       "       [0.24941343],\n",
       "       [0.24901885],\n",
       "       [0.24957607],\n",
       "       [0.24887968],\n",
       "       [0.24980645],\n",
       "       [0.24988393],\n",
       "       [0.24999518],\n",
       "       [0.24999777],\n",
       "       [0.24941371]])"
      ]
     },
     "execution_count": 133,
     "metadata": {},
     "output_type": "execute_result"
    }
   ],
   "source": [
    "def sigmoid_gra(x):\n",
    "    return x*(1-x)\n",
    "\n",
    "e=sigmoid_gra(np.array(output))\n",
    "e"
   ]
  },
  {
   "cell_type": "code",
   "execution_count": null,
   "metadata": {},
   "outputs": [],
   "source": []
  }
 ],
 "metadata": {
  "kernelspec": {
   "display_name": "Python 3",
   "language": "python",
   "name": "python3"
  },
  "language_info": {
   "codemirror_mode": {
    "name": "ipython",
    "version": 3
   },
   "file_extension": ".py",
   "mimetype": "text/x-python",
   "name": "python",
   "nbconvert_exporter": "python",
   "pygments_lexer": "ipython3",
   "version": "3.7.3"
  }
 },
 "nbformat": 4,
 "nbformat_minor": 2
}
