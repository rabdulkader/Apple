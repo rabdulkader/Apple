{
 "cells": [
  {
   "cell_type": "code",
   "execution_count": 39,
   "metadata": {},
   "outputs": [
    {
     "data": {
      "text/plain": [
       "(1, 4)"
      ]
     },
     "execution_count": 39,
     "metadata": {},
     "output_type": "execute_result"
    }
   ],
   "source": [
    "import pandas as pd\n",
    "import numpy as np\n",
    "\n",
    "data=pd.read_csv(r'C:\\Users\\Reyan\\Desktop\\Proj\\Apple\\Data.csv')\n",
    "data=data.sample(frac=1).reset_index(drop=True)\n",
    "\n",
    "train_input_data=data.drop(['O'],axis=1)\n",
    "train_input=np.matrix(train_input_data.values)\n",
    "train_output_data=data.drop(['A','B','C','D'],axis=1)\n",
    "train_output=np.matrix(train_output_data.values)\n",
    "train_input[0].shape"
   ]
  },
  {
   "cell_type": "code",
   "execution_count": 59,
   "metadata": {},
   "outputs": [],
   "source": [
    "#set nn structure [input nodes,x hiddenlayers with x nodes....,output nodes, o for offset]\n",
    "structure=[4,3,2,1,0]\n",
    "\n",
    "#function to generate random chromosomes\n",
    "def chromosome_generetor(structure):\n",
    "    x=[]\n",
    "    for i in range(0,len(structure)-1):\n",
    "        k=structure[i]*structure[i+1]\n",
    "        x.append(k)\n",
    "    x=sum(x)\n",
    "    # x = shape of chromsome\n",
    "    return 2*np.random.random((x,))-2 \n",
    "\n",
    "#function to arrange the weights for each layers \n",
    "def weights_classifier(structure,chromosome):\n",
    "    weights_list=[]\n",
    "    for i in range(0,len(structure)-2):\n",
    "        if i == 0:\n",
    "            a=0\n",
    "            b=structure[i]*structure[i+1]\n",
    "        else:\n",
    "            a=b\n",
    "            b=a+(structure[i]*structure[i+1])\n",
    "        r=structure[i]\n",
    "        c=structure[i+1]\n",
    "        #print('[',a,',',b,']','(',r,',',c,')')\n",
    "        w=np.reshape(np.matrix(chromosome[a:b]),(r,c))\n",
    "        weights_list.append(w)\n",
    "        \n",
    "    # weights_list = a list of aranged weights matrices  \n",
    "    return weights_list\n",
    "\n",
    "def sigmoid(x):\n",
    "    return 1/(1+np.exp(-x))\n",
    "\n",
    "def feed_forward(structure,chromosome,train_input):\n",
    "    weights_list=weights_classifier(structure,chromosome)\n",
    "    #print('weights list: ',weights_list)\n",
    "    for i in range(len(weights_list)):\n",
    "        if i==0:\n",
    "            output=sigmoid(np.dot(train_input,weights_list[i]))\n",
    "        else:\n",
    "            output=sigmoid(np.dot(output,weights_list[i]))\n",
    "        #print('hl',[i],': ',weights_list[i])\n",
    "    #print(output.shape)        \n",
    "    return output\n",
    "    "
   ]
  },
  {
   "cell_type": "code",
   "execution_count": 68,
   "metadata": {},
   "outputs": [
    {
     "name": "stdout",
     "output_type": "stream",
     "text": [
      "output:  [[0.44829578]]\n",
      "output:  [[0.37515509]]\n",
      "output:  [[0.40104461]]\n",
      "output:  [[0.37184057]]\n",
      "output:  [[0.32715311]]\n",
      "output:  [[0.32347751]]\n",
      "output:  [[0.3248758]]\n",
      "output:  [[0.33380318]]\n",
      "output:  [[0.30484559]]\n",
      "output:  [[0.28670077]]\n",
      "output:  [[0.30362034]]\n",
      "output:  [[0.29467063]]\n",
      "output:  [[0.39187244]]\n",
      "output:  [[0.34632959]]\n",
      "output:  [[0.29972842]]\n",
      "output:  [[0.32847212]]\n"
     ]
    }
   ],
   "source": [
    "structure=[4,3,2,1,0]\n",
    "chromosome=chromosome_generetor(structure)\n",
    "for i in range(len(train_input)):\n",
    "    output=feed_forward(structure,chromosome,train_input[i])\n",
    "    #print(structure)\n",
    "    print('output: ',output)"
   ]
  },
  {
   "cell_type": "code",
   "execution_count": 65,
   "metadata": {},
   "outputs": [
    {
     "name": "stdout",
     "output_type": "stream",
     "text": [
      "output:  [[0.41962001]]\n",
      "output:  [[0.38160475]]\n",
      "output:  [[0.3582655]]\n",
      "output:  [[0.35785551]]\n",
      "output:  [[0.32136635]]\n",
      "output:  [[0.30074342]]\n",
      "output:  [[0.31824609]]\n",
      "output:  [[0.30316092]]\n",
      "output:  [[0.26627595]]\n",
      "output:  [[0.25149367]]\n",
      "output:  [[0.26944252]]\n",
      "output:  [[0.27677354]]\n",
      "output:  [[0.33086415]]\n",
      "output:  [[0.28281358]]\n",
      "output:  [[0.2576655]]\n",
      "output:  [[0.281456]]\n"
     ]
    }
   ],
   "source": [
    "structure=[4,4,4,1,0]\n",
    "chromosome=chromosome_generetor(structure)\n",
    "for i in range(len(train_input)):\n",
    "    output=feed_forward(structure,chromosome,train_input[i])\n",
    "    #print(structure)\n",
    "    print('output: ',output)"
   ]
  },
  {
   "cell_type": "code",
   "execution_count": null,
   "metadata": {},
   "outputs": [],
   "source": []
  }
 ],
 "metadata": {
  "kernelspec": {
   "display_name": "Python 3",
   "language": "python",
   "name": "python3"
  },
  "language_info": {
   "codemirror_mode": {
    "name": "ipython",
    "version": 3
   },
   "file_extension": ".py",
   "mimetype": "text/x-python",
   "name": "python",
   "nbconvert_exporter": "python",
   "pygments_lexer": "ipython3",
   "version": "3.7.3"
  }
 },
 "nbformat": 4,
 "nbformat_minor": 2
}
