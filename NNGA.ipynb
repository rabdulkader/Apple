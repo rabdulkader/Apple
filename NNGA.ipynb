{
 "cells": [
  {
   "cell_type": "code",
   "execution_count": 202,
   "metadata": {},
   "outputs": [],
   "source": [
    "import matplotlib.pyplot as plt\n",
    "import numpy as np\n",
    "import pandas as pd"
   ]
  },
  {
   "cell_type": "code",
   "execution_count": 194,
   "metadata": {},
   "outputs": [],
   "source": [
    "data=pd.read_csv(r'C:\\Users\\rabdulk2\\Desktop\\Proj\\GA\\Data.csv')\n",
    "data=data.sample(frac=1).reset_index(drop=True)\n",
    "\n",
    "#train_data=data.head(12)\n",
    "#test_data=data.tail(4)\n",
    "\n",
    "train_input_data=data.drop(['O'],axis=1)\n",
    "train_input=np.matrix(train_input_data.values)\n",
    "train_output_data=data.drop(['A','B','C','D'],axis=1)\n",
    "train_output=np.matrix(train_output_data.values)\n",
    "\n",
    "#test_input_data=test_data.drop(['O'],axis=1)\n",
    "#test_input=test_input_data.values\n",
    "#test_output_data=test_data.drop(['A','B','C','D'],axis=1)\n",
    "#test_output=test_output_data.values"
   ]
  },
  {
   "cell_type": "code",
   "execution_count": 216,
   "metadata": {},
   "outputs": [
    {
     "data": {
      "text/plain": [
       "array([ 0.18223408, -0.64591019,  0.53896012,  0.75428197,  0.97212716,\n",
       "       -0.10410832,  0.51375476, -0.16835199,  0.21539887, -0.009888  ,\n",
       "       -0.30623915,  0.22775364,  0.17752428, -0.44942545,  0.35423418,\n",
       "        0.13408447, -0.24728711, -0.87817558, -0.64276818,  0.90699841])"
      ]
     },
     "execution_count": 216,
     "metadata": {},
     "output_type": "execute_result"
    }
   ],
   "source": [
    "entity=2*np.random.random((20,))-1\n",
    "input_weights=np.reshape(np.matrix(entity[0:12]),(4,3))\n",
    "hl1_weights=np.reshape(np.matrix(entity[12:18]),(3,2))\n",
    "hl2_weights=np.reshape(np.matrix(entity[18:20]),(2,1))\n",
    "entity\n"
   ]
  },
  {
   "cell_type": "code",
   "execution_count": 232,
   "metadata": {},
   "outputs": [
    {
     "data": {
      "text/plain": [
       "0.20961909460288558"
      ]
     },
     "execution_count": 232,
     "metadata": {},
     "output_type": "execute_result"
    }
   ],
   "source": [
    "def sigmoid(x):\n",
    "    \n",
    "    return 1/(1+np.exp(-x))\n",
    "\n",
    "def mse(answers):\n",
    "    \n",
    "    error=[]\n",
    "    for i in range(len(train_output)):\n",
    "        mse=(train_output[i]-answers[i]) ** 2\n",
    "        error.append(mse)\n",
    "\n",
    "    return np.array(error)\n",
    "    \n",
    "def feed_forward(entity):\n",
    "    \n",
    "    input_weights=np.reshape(np.matrix(entity[0:12]),(4,3))\n",
    "    hl1_weights=np.reshape(np.matrix(entity[12:18]),(3,2))\n",
    "    hl2_weights=np.reshape(np.matrix(entity[18:20]),(2,1))\n",
    "    \n",
    "    answers=[]\n",
    "    for i in range(len(train_input)):\n",
    "        \n",
    "        hl1_h=np.dot(train_input[i],input_weights)\n",
    "        hl1_hA=sigmoid(hl1_h)\n",
    "        \n",
    "        hl2_h=np.dot(hl1_hA,hl1_weights)\n",
    "        hl2_hA=sigmoid(hl2_h)\n",
    "        \n",
    "        o=np.dot(hl2_hA,hl2_weights)\n",
    "        oA=sigmoid(o)\n",
    "        \n",
    "        answers.append(oA)\n",
    "        \n",
    "    return answers\n",
    "\n",
    "#answers=feed_forward(input_weights,hl1_weights,hl2_weights)\n",
    "#np.mean(mse(answers)[0:2])"
   ]
  },
  {
   "cell_type": "code",
   "execution_count": 334,
   "metadata": {},
   "outputs": [
    {
     "name": "stdout",
     "output_type": "stream",
     "text": [
      "100\n"
     ]
    }
   ],
   "source": [
    "plt.rcParams['figure.figsize']=[8,6]\n",
    "\n",
    "target=0\n",
    "size=1000\n",
    "\n",
    "population=[]\n",
    "\n",
    "def populate(size):\n",
    "    \n",
    "    initial=[]\n",
    "    \n",
    "    for _ in range(size):\n",
    "        \n",
    "        entity=2*np.random.random((20,))-1\n",
    "        \n",
    "        initial.append(entity)\n",
    "    \n",
    "    return initial\n",
    "\n",
    "def fitness(population,target, size):\n",
    "    \n",
    "    scores=[]\n",
    "    pop=[]\n",
    "    cord=[]\n",
    "    for index,entity in enumerate(population):\n",
    "        \n",
    "        answers=feed_forward(entity)\n",
    "        \n",
    "        error=mse(answers)\n",
    "        \n",
    "        score=np.mean(error)\n",
    "        \n",
    "        scores.append((score,entity,index))\n",
    "        cord.append((score,score))\n",
    "        #pop.append((entity,index))\n",
    "        \n",
    "    top_score=sorted(scores)[:size]\n",
    "    \n",
    "    for i in range(size):\n",
    "        order=top_score[i][1]\n",
    "        pop.append(order)\n",
    "    \n",
    "    return np.array(pop)[:int(size*0.1)],np.array(cord)\n",
    "        \n",
    "\n",
    "    \n",
    "\n",
    "population=populate(size)\n",
    "fittest,cord=fitness(population,target,size)\n",
    "print(len(fittest))"
   ]
  },
  {
   "cell_type": "code",
   "execution_count": 335,
   "metadata": {},
   "outputs": [
    {
     "data": {
      "image/png": "[encoded data removed]",
      "text/plain": [
       "<Figure size 576x432 with 1 Axes>"
      ]
     },
     "metadata": {
      "needs_background": "light"
     },
     "output_type": "display_data"
    }
   ],
   "source": [
    "def draw(cord, target):\n",
    "    plt.xlim((-0.2,1))\n",
    "    plt.ylim((-0.2,1))\n",
    "    plt.scatter(cord[:,0],cord[:,1],c='green',s=12)\n",
    "    plt.scatter(target[0], target[1], c ='red', s = 60)\n",
    "    \n",
    "draw(cord,(target,target))\n"
   ]
  },
  {
   "cell_type": "code",
   "execution_count": null,
   "metadata": {},
   "outputs": [],
   "source": []
  }
 ],
 "metadata": {
  "kernelspec": {
   "display_name": "Python 3",
   "language": "python",
   "name": "python3"
  },
  "language_info": {
   "codemirror_mode": {
    "name": "ipython",
    "version": 3
   },
   "file_extension": ".py",
   "mimetype": "text/x-python",
   "name": "python",
   "nbconvert_exporter": "python",
   "pygments_lexer": "ipython3",
   "version": "3.6.8"
  }
 },
 "nbformat": 4,
 "nbformat_minor": 2
}
