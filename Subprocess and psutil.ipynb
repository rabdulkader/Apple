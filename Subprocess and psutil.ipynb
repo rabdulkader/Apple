{
 "cells": [
  {
   "cell_type": "code",
   "execution_count": null,
   "metadata": {},
   "outputs": [],
   "source": [
    "import matplotlib.pyplot as plt\n",
    "import math\n",
    "import psutil\n",
    "import numpy as np\n",
    "\n",
    "pid=psutil.Process()\n",
    "\n",
    "cpus=pid.cpu_affinity()\n",
    "\n",
    "fig, ax = plt.subplots()\n",
    "\n",
    "for cpu in cpus:\n",
    "        pid.cpu_affinity([cpu])\n",
    "        t=[None]*(10**5)\n",
    "        path='******************************'+str(cpu)+'.png'\n",
    "        j=[]\n",
    "        for k in range(2):\n",
    "                if k == 0:\n",
    "                        for i in range(0,((10**5)/4)*2,1):\n",
    "                                j.append(i)\n",
    "                                t[i]=np.sin(1000)\n",
    "                                j.append(i+1)\n",
    "                                t[i+1]=np.sin(0.01)\n",
    "                if k == 1:\n",
    "                        for i in range(((10**5)/4)*2,(10**5)/2,1):\n",
    "                                j.append(i)\n",
    "                                t[i]=np.sin(1000)\n",
    "                                j.append(i+1)\n",
    "                                t[i+1]=np.sin(0.01)\n",
    "\n",
    "        ax.plot(t)\n",
    "        fig.savefig(path)\n",
    "        print('CPU '+str(cpu)+' Done')\n"
   ]
  },
  {
   "cell_type": "code",
   "execution_count": null,
   "metadata": {},
   "outputs": [],
   "source": [
    "import subprocess\n",
    "\n",
    "subprocess.Popen(['python.exe','c1.py',str(population[:250])])\n",
    "print('Done')"
   ]
  }
 ],
 "metadata": {
  "kernelspec": {
   "display_name": "Python 3",
   "language": "python",
   "name": "python3"
  },
  "language_info": {
   "codemirror_mode": {
    "name": "ipython",
    "version": 3
   },
   "file_extension": ".py",
   "mimetype": "text/x-python",
   "name": "python",
   "nbconvert_exporter": "python",
   "pygments_lexer": "ipython3",
   "version": "3.6.8"
  }
 },
 "nbformat": 4,
 "nbformat_minor": 2
}
