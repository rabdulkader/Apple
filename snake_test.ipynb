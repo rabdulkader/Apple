{
 "cells": [
  {
   "cell_type": "code",
   "execution_count": 2,
   "metadata": {},
   "outputs": [],
   "source": []
  },
  {
   "cell_type": "code",
   "execution_count": 60,
   "metadata": {},
   "outputs": [
    {
     "name": "stdout",
     "output_type": "stream",
     "text": [
      "[(300, 300), (300, 300)]\n"
     ]
    },
    {
     "data": {
      "text/plain": [
       "[(300, 240), (300, 300)]"
      ]
     },
     "execution_count": 60,
     "metadata": {},
     "output_type": "execute_result"
    }
   ],
   "source": [
    "import numpy as np\n",
    "import pygame as pg\n",
    "import random,copy\n",
    "\n",
    "frame_w=600\n",
    "frame_h=600\n",
    "\n",
    "white=[255,255,255]\n",
    "black=[0,0,0]\n",
    "\n",
    "\n",
    "x=[]\n",
    "y=[]\n",
    "for i in range(0,frame_w,60):\n",
    "    x.append(i)\n",
    "    y.append(i)\n",
    "\n",
    "grid=[]\n",
    "for i in range(len(x)):\n",
    "    for j in range(len(y)):\n",
    "        grid.append((x[i],y[j]))\n",
    "\n",
    "\n",
    "#snake_head=grid[random.randint(0,len(grid))]\n",
    "snake_head=grid[55]\n",
    "\n",
    "snake=[snake_head]\n",
    "snake_c=[]\n",
    "\n",
    "snake_c=copy.deepcopy(snake)\n",
    "for _ in range(1):\n",
    "    body=snake[-1]\n",
    "    snake.append(body)\n",
    "\n",
    "print(snake)\n",
    "\n",
    "#     u d l r\n",
    "move=[1,0,0,0]\n",
    "\n",
    "for i in range(1,len(snake)):\n",
    "    snake[i]=snake_c[i-1]\n",
    "\n",
    "if move ==[1,0,0,0]:\n",
    "    snake[0]=(snake[0][0],snake[0][1]-60)\n",
    "if move ==[0,1,0,0]:\n",
    "    snake[0]=(snake[0][0],snake[0][1]+60)\n",
    "if move ==[0,0,1,0]:\n",
    "    snake[0]=(snake[0][0]-60,snake[0][1])\n",
    "if move ==[0,0,0,1]:\n",
    "    snake[0]=(snake[0][0]+60,snake[0][1])\n",
    "    \n",
    "\n",
    "    \n",
    "snake   \n",
    "\n"
   ]
  },
  {
   "cell_type": "code",
   "execution_count": 61,
   "metadata": {},
   "outputs": [
    {
     "name": "stdout",
     "output_type": "stream",
     "text": [
      "[(300, 240), (300, 300)]\n"
     ]
    },
    {
     "data": {
      "text/plain": [
       "[(300, 180), (300, 300), (300, 300)]"
      ]
     },
     "execution_count": 61,
     "metadata": {},
     "output_type": "execute_result"
    }
   ],
   "source": [
    "move=[1,0,0,0]\n",
    "print(snake)\n",
    "for i in range(1,len(snake)):\n",
    "    #print(i,snake[i],snake[i-1])\n",
    "    snake[i]=snake_c[i-1]\n",
    "\n",
    "snake_c=copy.deepcopy(snake)\n",
    "for _ in range(1):\n",
    "    body=snake[-1]\n",
    "    snake.append(body)\n",
    "    \n",
    "if move ==[1,0,0,0]:\n",
    "    snake[0]=(snake[0][0],snake[0][1]-60)\n",
    "if move ==[0,1,0,0]:\n",
    "    snake[0]=(snake[0][0],snake[0][1]+60)\n",
    "if move ==[0,0,1,0]:\n",
    "    snake[0]=(snake[0][0]-60,snake[0][1])\n",
    "if move ==[0,0,0,1]:\n",
    "    snake[0]=(snake[0][0]+60,snake[0][1])\n",
    "    \n",
    "\n",
    "    \n",
    "snake"
   ]
  },
  {
   "cell_type": "code",
   "execution_count": 63,
   "metadata": {},
   "outputs": [
    {
     "name": "stdout",
     "output_type": "stream",
     "text": [
      "[(300, 120), (300, 180), (300, 180)]\n",
      "1 (300, 180) (300, 120)\n",
      "2 (300, 180) (300, 240)\n"
     ]
    },
    {
     "data": {
      "text/plain": [
       "[(300, 60), (300, 240), (300, 300)]"
      ]
     },
     "execution_count": 63,
     "metadata": {},
     "output_type": "execute_result"
    }
   ],
   "source": [
    "print(snake)\n",
    "\n",
    "#     u d l r\n",
    "move=[1,0,0,0]\n",
    "\n",
    "for i in range(1,len(snake)):\n",
    "    print(i,snake[i],snake[i-1])\n",
    "    snake[i]=snake_c[i-1]\n",
    "    \n",
    "if move ==[1,0,0,0]:\n",
    "    snake[0]=(snake[0][0],snake[0][1]-60)\n",
    "if move ==[0,1,0,0]:\n",
    "    snake[0]=(snake[0][0],snake[0][1]+60)\n",
    "if move ==[0,0,1,0]:\n",
    "    snake[0]=(snake[0][0]-60,snake[0][1])\n",
    "if move ==[0,0,0,1]:\n",
    "    snake[0]=(snake[0][0]+60,snake[0][1])\n",
    "    \n",
    "snake"
   ]
  },
  {
   "cell_type": "code",
   "execution_count": 52,
   "metadata": {},
   "outputs": [
    {
     "data": {
      "text/plain": [
       "[(300, 120), (300, 180), (300, 180)]"
      ]
     },
     "execution_count": 52,
     "metadata": {},
     "output_type": "execute_result"
    }
   ],
   "source": [
    "snake"
   ]
  },
  {
   "cell_type": "code",
   "execution_count": null,
   "metadata": {},
   "outputs": [],
   "source": []
  }
 ],
 "metadata": {
  "kernelspec": {
   "display_name": "Python 3",
   "language": "python",
   "name": "python3"
  },
  "language_info": {
   "codemirror_mode": {
    "name": "ipython",
    "version": 3
   },
   "file_extension": ".py",
   "mimetype": "text/x-python",
   "name": "python",
   "nbconvert_exporter": "python",
   "pygments_lexer": "ipython3",
   "version": "3.6.8"
  }
 },
 "nbformat": 4,
 "nbformat_minor": 2
}
